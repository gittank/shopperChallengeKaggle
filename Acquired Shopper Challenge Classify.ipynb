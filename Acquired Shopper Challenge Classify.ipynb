{
 "metadata": {
  "name": ""
 },
 "nbformat": 3,
 "nbformat_minor": 0,
 "worksheets": [
  {
   "cells": [
    {
     "cell_type": "code",
     "collapsed": false,
     "input": [
      "import pandas as pd\n",
      "from pandas import DataFrame, read_csv\n",
      "import matplotlib.pyplot as plt\n",
      "import numpy as np\n",
      "%matplotlib inline\n",
      "print pd.version.version"
     ],
     "language": "python",
     "metadata": {},
     "outputs": [
      {
       "output_type": "stream",
       "stream": "stdout",
       "text": [
        "0.13.1\n"
       ]
      }
     ],
     "prompt_number": 1
    },
    {
     "cell_type": "code",
     "collapsed": false,
     "input": [
      "dfHist = read_csv('/media/sf_Docs/Kaggle/Shopping/Data/trainHistory.csv')\n",
      "\n",
      "from sklearn import preprocessing\n",
      "# data\n",
      "X = dfHist.ix[:,[1,2,3]].copy().astype(float).values\n",
      "scaler = preprocessing.StandardScaler().fit(X)\n",
      "\n",
      "# labels, this seems like alot of work, maybe a better way\n",
      "y = dfHist.repeater.copy()\n",
      "y[y.ix[:] == 't'] = 1;\n",
      "y[y.ix[:] == 'f'] = 0;\n",
      "y = y.astype(bool).values\n",
      "lb = preprocessing.LabelBinarizer()\n",
      "lb.fit(y)\n",
      "y = lb.transform(y)\n",
      "y = np.ravel(y)"
     ],
     "language": "python",
     "metadata": {},
     "outputs": [],
     "prompt_number": 3
    },
    {
     "cell_type": "code",
     "collapsed": false,
     "input": [
      "from sklearn.ensemble import RandomForestClassifier\n",
      "from sklearn import metrics\n",
      "from sklearn import cross_validation\n",
      "\n",
      "\n",
      "X_train, X_test, y_train, y_test = cross_validation.train_test_split(X, y, test_size=0.6, random_state=0)\n",
      "\n",
      "\n",
      "rmf = RandomForestClassifier(n_estimators=90, oob_score=True, n_jobs=4).fit(X_train, y_train)\n",
      "# predict on training data just for testing\n",
      "ypTrain = rmf.predict(X_train)\n",
      "print 'OOB score: %.2f\\n' % rmf.oob_score_\n",
      "print metrics.confusion_matrix(ypTrain, y_train)\n",
      "\n",
      "ypTest = rmf.predict(X_test)\n",
      "print 'OOB score: %.2f\\n' % rmf.oob_score_\n",
      "print metrics.confusion_matrix(ypTest, y_test)\n",
      "\n",
      "rmfTrainProb = rmf.predict_proba(X_train)\n",
      "rmfTestProb = rmf.predict_proba(X_test)"
     ],
     "language": "python",
     "metadata": {},
     "outputs": [
      {
       "output_type": "stream",
       "stream": "stdout",
       "text": [
        "OOB score: 0.73\n",
        "\n",
        "[[44325 14730]\n",
        " [ 2349  2618]]"
       ]
      },
      {
       "output_type": "stream",
       "stream": "stdout",
       "text": [
        "\n"
       ]
      },
      {
       "output_type": "stream",
       "stream": "stdout",
       "text": [
        "OOB score: 0.73\n",
        "\n",
        "[[66383 21952]\n",
        " [ 3562  4138]]"
       ]
      },
      {
       "output_type": "stream",
       "stream": "stdout",
       "text": [
        "\n"
       ]
      }
     ],
     "prompt_number": 11
    },
    {
     "cell_type": "code",
     "collapsed": false,
     "input": [
      "rmfTestProb[0:5,:]"
     ],
     "language": "python",
     "metadata": {},
     "outputs": [
      {
       "metadata": {},
       "output_type": "pyout",
       "prompt_number": 12,
       "text": [
        "array([[ 0.82127278,  0.17872722],\n",
        "       [ 0.62868418,  0.37131582],\n",
        "       [ 0.83792985,  0.16207015],\n",
        "       [ 0.69481747,  0.30518253],\n",
        "       [ 0.92106061,  0.07893939]])"
       ]
      }
     ],
     "prompt_number": 12
    },
    {
     "cell_type": "code",
     "collapsed": false,
     "input": [
      "print X\n",
      "X = scaler.transform(X)\n",
      "print X"
     ],
     "language": "python",
     "metadata": {},
     "outputs": [
      {
       "output_type": "stream",
       "stream": "stdout",
       "text": [
        "[[  2.05000000e+02   1.20825100e+06   3.40000000e+01]\n",
        " [  2.05000000e+02   1.19750200e+06   3.40000000e+01]\n",
        " [  1.80000000e+01   1.19750200e+06   1.10000000e+01]\n",
        " ..., \n",
        " [  1.52000000e+02   1.20305200e+06   1.00000000e+01]\n",
        " [  1.53000000e+02   1.20482200e+06   1.20000000e+01]\n",
        " [  1.53000000e+02   1.20482200e+06   1.20000000e+01]]\n",
        "[[ 0.61117261  1.33184514  0.73561122]\n",
        " [ 0.61117261 -0.95249522  0.73561122]\n",
        " [-0.85051985 -0.95249522 -0.46864353]\n",
        " ..., \n",
        " [ 0.19689614  0.22697161 -0.52100243]\n",
        " [ 0.20471268  0.6031259  -0.41628463]\n",
        " [ 0.20471268  0.6031259  -0.41628463]]\n"
       ]
      }
     ],
     "prompt_number": 13
    },
    {
     "cell_type": "code",
     "collapsed": false,
     "input": [
      "from sklearn import svm\n",
      "X_train, X_test, y_train, y_test = cross_validation.train_test_split(X, y, test_size=0.6, random_state=0)\n",
      "#X_train = scaler.transform(X_train)\n",
      "#X_test = scaler.transform(X_test)\n",
      "\n",
      "svr = svm.SVC(probability=True)\n",
      "svr.fit(X_train, y_train)  \n",
      "y_pred_train = svr.predict(X_train)\n",
      "y_pred_test = svr.predict(X_test)\n",
      "print metrics.confusion_matrix(y_pred_train, y_train)\n",
      "print metrics.confusion_matrix(y_pred_test, y_test)\n",
      "svrTrainProb = svr.predict_proba(X_train)\n",
      "svrTestProb = svr.predict_proba(X_test)\n"
     ],
     "language": "python",
     "metadata": {},
     "outputs": [],
     "prompt_number": "*"
    },
    {
     "cell_type": "code",
     "collapsed": false,
     "input": [
      "print metrics.confusion_matrix(y_pred_train, y_train)\n",
      "print metrics.confusion_matrix(y_pred_test, y_test)\n"
     ],
     "language": "python",
     "metadata": {},
     "outputs": [
      {
       "output_type": "stream",
       "stream": "stdout",
       "text": [
        "[[66697 22316]\n",
        " [ 3311  3710]]\n",
        "[[44447 14740]\n",
        " [ 2164  2672]]"
       ]
      },
      {
       "output_type": "stream",
       "stream": "stdout",
       "text": [
        "\n"
       ]
      }
     ],
     "prompt_number": 10
    },
    {
     "cell_type": "code",
     "collapsed": false,
     "input": [
      "import numpy as np\n",
      "temp =  (np.where(y_train==True))\n",
      "print np.asarray(temp).size\n",
      "temp =  (np.where(y_train==False))\n",
      "print np.asarray(temp).size"
     ],
     "language": "python",
     "metadata": {},
     "outputs": [
      {
       "output_type": "stream",
       "stream": "stdout",
       "text": [
        "26026\n",
        "70008\n"
       ]
      }
     ],
     "prompt_number": 6
    },
    {
     "cell_type": "code",
     "collapsed": false,
     "input": [
      "dfTest = read_csv('/media/sf_Docs/Kaggle/Shopping/Data/testHistory')\n",
      "#print dfTest\n",
      "dfTest.describe()\n",
      "XX = dfTest.ix[:,[1,2,3]].copy()\n",
      "XX.head(5)\n",
      "yyRmf = rmf.predict_proba(X_test)\n",
      "yySvr = svr.predict_proba(X_test)\n"
     ],
     "language": "python",
     "metadata": {},
     "outputs": []
    },
    {
     "cell_type": "code",
     "collapsed": false,
     "input": [
      "#X = dfHist.ix[:,[1,2,3,6]].copy().astype(float).values\n",
      "from time import strftime\n",
      "d = dfHist.ix[:,6].copy()\n",
      "#d.apply(lambda x: x.strftime('%d-%m-%Y'))\n",
      "\n",
      "a = strftime(\"2010-11-3\")"
     ],
     "language": "python",
     "metadata": {},
     "outputs": [],
     "prompt_number": 98
    },
    {
     "cell_type": "code",
     "collapsed": false,
     "input": [
      "print X.std(0)"
     ],
     "language": "python",
     "metadata": {},
     "outputs": [
      {
       "output_type": "stream",
       "stream": "stdout",
       "text": [
        "[ 1.  1.  1.]\n"
       ]
      }
     ],
     "prompt_number": 110
    },
    {
     "cell_type": "code",
     "collapsed": false,
     "input": [
      "d."
     ],
     "language": "python",
     "metadata": {},
     "outputs": [
      {
       "metadata": {},
       "output_type": "pyout",
       "prompt_number": 77,
       "text": [
        "<bound method Series.to_timestamp of 0     2013-04-24\n",
        "1     2013-03-27\n",
        "2     2013-03-28\n",
        "3     2013-03-25\n",
        "4     2013-04-01\n",
        "5     2013-03-29\n",
        "6     2013-03-30\n",
        "7     2013-03-30\n",
        "8     2013-04-05\n",
        "9     2013-03-26\n",
        "10    2013-03-26\n",
        "11    2013-04-17\n",
        "12    2013-04-04\n",
        "13    2013-04-02\n",
        "14    2013-04-19\n",
        "...\n",
        "160042    2013-04-23\n",
        "160043    2013-04-22\n",
        "160044    2013-04-07\n",
        "160045    2013-04-26\n",
        "160046    2013-04-14\n",
        "160047    2013-04-24\n",
        "160048    2013-04-11\n",
        "160049    2013-04-25\n",
        "160050    2013-04-16\n",
        "160051    2013-04-25\n",
        "160052    2013-04-22\n",
        "160053    2013-04-24\n",
        "160054    2013-04-02\n",
        "160055    2013-04-17\n",
        "160056    2013-04-05\n",
        "Name: offerdate, Length: 160057, dtype: object>"
       ]
      }
     ],
     "prompt_number": 77
    },
    {
     "cell_type": "code",
     "collapsed": false,
     "input": [],
     "language": "python",
     "metadata": {},
     "outputs": []
    }
   ],
   "metadata": {}
  }
 ]
}