{
 "metadata": {
  "name": ""
 },
 "nbformat": 3,
 "nbformat_minor": 0,
 "worksheets": [
  {
   "cells": [
    {
     "cell_type": "code",
     "collapsed": false,
     "input": [
      "# Import all libraries \n",
      "# General syntax to import specific functions in a library: \n",
      "from pandas import DataFrame, read_csv\n",
      "import matplotlib.pyplot as plt\n",
      "import pandas as pd\n",
      "\n",
      "# Enable inline plotting\n",
      "%matplotlib inline"
     ],
     "language": "python",
     "metadata": {},
     "outputs": [],
     "prompt_number": 1
    },
    {
     "cell_type": "code",
     "collapsed": false,
     "input": [
      "print 'Pandas version ' + pd.__version__"
     ],
     "language": "python",
     "metadata": {},
     "outputs": [
      {
       "output_type": "stream",
       "stream": "stdout",
       "text": [
        "Pandas version 0.13.1\n"
       ]
      }
     ],
     "prompt_number": 2
    },
    {
     "cell_type": "code",
     "collapsed": false,
     "input": [
      "dfHist = read_csv('/Users/tank/Downloads/trainHistory')\n",
      "print dfHist\n",
      "dfHist.describe()\n"
     ],
     "language": "python",
     "metadata": {},
     "outputs": [
      {
       "output_type": "stream",
       "stream": "stdout",
       "text": [
        "          id  chain    offer  market  repeattrips repeater   offerdate\n",
        "0      86246    205  1208251      34            5        t  2013-04-24\n",
        "1      86252    205  1197502      34           16        t  2013-03-27\n",
        "2   12682470     18  1197502      11            0        f  2013-03-28\n",
        "3   12996040     15  1197502       9            0        f  2013-03-25\n",
        "4   13089312     15  1204821       9            0        f  2013-04-01\n",
        "5   13179265     14  1197502       8            0        f  2013-03-29\n",
        "6   13251776     15  1200581       9            0        f  2013-03-30\n",
        "7   13540129     14  1200581       8            0        f  2013-03-30\n",
        "8   13807224      4  1204576       1            0        f  2013-04-05\n",
        "9   13873775      4  1197502       1            0        f  2013-03-26\n",
        "10  13974451      4  1197502       1            0        f  2013-03-26\n",
        "11  14088807      3  1200581       2            1        t  2013-04-17\n",
        "12  14381137      4  1197502       1            0        f  2013-04-04\n",
        "13  14576147     18  1197502      11            0        f  2013-04-02\n",
        "14  15530842     95  1197502      39            0        f  2013-04-19\n",
        "15  15705695     15  1197502       9            0        f  2013-04-02\n",
        "16  15738658     17  1197502       4            0        f  2013-04-22\n",
        "17  15753725     17  1208251       4            0        f  2013-04-24\n",
        "18  15941277     14  1197502       8            1        t  2013-03-26\n",
        "19  15994113      4  1197502       1            0        f  2013-03-26\n",
        "20  16138642      4  1204576       1            0        f  2013-04-05\n",
        "21  16203579     15  1197502       9            2        t  2013-03-25\n",
        "22  16238376     14  1197502       8            1        t  2013-04-05\n",
        "23  16535563      4  1208251       1            7        t  2013-04-27\n",
        "24  16606739      3  1208252       2            0        f  2013-04-24\n",
        "25  16646740      4  1197502       1            0        f  2013-03-28\n",
        "26  16691816      3  1200988       2            0        f  2013-03-18\n",
        "27  16749437     20  1197502       7            1        t  2013-04-01\n",
        "28  16797008     88  1197502      14            1        t  2013-04-17\n",
        "29  17456470     14  1208252       8            0        f  2013-04-26\n",
        "30  17472223      4  1200988       1            0        f  2013-03-23\n",
        "31  17486592     15  1197502       9            1        t  2013-04-17\n",
        "32  17693343     18  1197502      11            0        f  2013-03-27\n",
        "33  17764186     15  1197502       9            0        f  2013-03-25\n",
        "34  17888308      4  1204576       1            0        f  2013-04-05\n",
        "35  17995179     95  1197502      39            0        f  2013-04-19\n",
        "36  18249735      4  1197502       1            2        t  2013-03-25\n",
        "37  18259179      3  1208251       2            0        f  2013-04-24\n",
        "38  18277411      4  1204576       1            0        f  2013-04-04\n",
        "39  18938874     88  1197502      14            0        f  2013-03-26\n",
        "40  19069700      4  1197502       1            0        f  2013-03-25\n",
        "41  19330664      4  1197502       1            0        f  2013-03-26\n",
        "42  19506471      4  1197502       1            1        t  2013-03-28\n",
        "43  19591356      4  1197502       1            1        t  2013-03-30\n",
        "44  19773748     15  1197502       9            0        f  2013-04-01\n",
        "45  19899195     14  1197502       8            0        f  2013-03-26\n",
        "46  21024070     15  1208251       9            1        t  2013-04-23\n",
        "47  21419778     14  1197502       8            0        f  2013-03-25\n",
        "48  21603296      4  1208251       1            0        f  2013-04-26\n",
        "49  21622166      3  1197502       2            0        f  2013-03-29\n",
        "50  21837001     15  1204576       9            0        f  2013-04-07\n",
        "51  21860840     15  1197502       9            0        f  2013-03-28\n",
        "52  22077078     18  1197502      11            0        f  2013-03-26\n",
        "53  22491084     15  1197502       9            1        t  2013-03-26\n",
        "54  22709494      4  1204822       1            1        t  2013-04-21\n",
        "55  22725281     18  1197502      11            0        f  2013-03-28\n",
        "56  22791304     20  1197502       7            0        f  2013-03-27\n",
        "57  22816872     17  1197502       4            0        f  2013-04-16\n",
        "58  23270065     17  1197502       4            0        f  2013-03-29\n",
        "59  23412989     17  1197502       4            0        f  2013-04-23\n",
        "         ...    ...      ...     ...          ...      ...         ...\n",
        "\n",
        "[160057 rows x 7 columns]\n"
       ]
      },
      {
       "html": [
        "<div style=\"max-height:1000px;max-width:1500px;overflow:auto;\">\n",
        "<table border=\"1\" class=\"dataframe\">\n",
        "  <thead>\n",
        "    <tr style=\"text-align: right;\">\n",
        "      <th></th>\n",
        "      <th>id</th>\n",
        "      <th>chain</th>\n",
        "      <th>offer</th>\n",
        "      <th>market</th>\n",
        "      <th>repeattrips</th>\n",
        "    </tr>\n",
        "  </thead>\n",
        "  <tbody>\n",
        "    <tr>\n",
        "      <th>count</th>\n",
        "      <td> 1.600570e+05</td>\n",
        "      <td> 160057.000000</td>\n",
        "      <td>  160057.000000</td>\n",
        "      <td> 160057.000000</td>\n",
        "      <td> 160057.000000</td>\n",
        "    </tr>\n",
        "    <tr>\n",
        "      <th>mean</th>\n",
        "      <td> 1.869324e+09</td>\n",
        "      <td>    126.810311</td>\n",
        "      <td> 1201983.981450</td>\n",
        "      <td>     19.950599</td>\n",
        "      <td>      0.656335</td>\n",
        "    </tr>\n",
        "    <tr>\n",
        "      <th>std</th>\n",
        "      <td> 1.570833e+09</td>\n",
        "      <td>    127.934288</td>\n",
        "      <td>    4705.530615</td>\n",
        "      <td>     19.099009</td>\n",
        "      <td>      6.786516</td>\n",
        "    </tr>\n",
        "    <tr>\n",
        "      <th>min</th>\n",
        "      <td> 8.624600e+04</td>\n",
        "      <td>      2.000000</td>\n",
        "      <td> 1194044.000000</td>\n",
        "      <td>      1.000000</td>\n",
        "      <td>      0.000000</td>\n",
        "    </tr>\n",
        "    <tr>\n",
        "      <th>25%</th>\n",
        "      <td> 4.981822e+08</td>\n",
        "      <td>     21.000000</td>\n",
        "      <td> 1197502.000000</td>\n",
        "      <td>     10.000000</td>\n",
        "      <td>      0.000000</td>\n",
        "    </tr>\n",
        "    <tr>\n",
        "      <th>50%</th>\n",
        "      <td> 7.674864e+08</td>\n",
        "      <td>     96.000000</td>\n",
        "      <td> 1200581.000000</td>\n",
        "      <td>     14.000000</td>\n",
        "      <td>      0.000000</td>\n",
        "    </tr>\n",
        "    <tr>\n",
        "      <th>75%</th>\n",
        "      <td> 3.285613e+09</td>\n",
        "      <td>    165.000000</td>\n",
        "      <td> 1208251.000000</td>\n",
        "      <td>     24.000000</td>\n",
        "      <td>      1.000000</td>\n",
        "    </tr>\n",
        "    <tr>\n",
        "      <th>max</th>\n",
        "      <td> 4.809911e+09</td>\n",
        "      <td>    526.000000</td>\n",
        "      <td> 1208503.000000</td>\n",
        "      <td>     96.000000</td>\n",
        "      <td>   2124.000000</td>\n",
        "    </tr>\n",
        "  </tbody>\n",
        "</table>\n",
        "<p>8 rows \u00d7 5 columns</p>\n",
        "</div>"
       ],
       "metadata": {},
       "output_type": "pyout",
       "prompt_number": 3,
       "text": [
        "                 id          chain           offer         market  \\\n",
        "count  1.600570e+05  160057.000000   160057.000000  160057.000000   \n",
        "mean   1.869324e+09     126.810311  1201983.981450      19.950599   \n",
        "std    1.570833e+09     127.934288     4705.530615      19.099009   \n",
        "min    8.624600e+04       2.000000  1194044.000000       1.000000   \n",
        "25%    4.981822e+08      21.000000  1197502.000000      10.000000   \n",
        "50%    7.674864e+08      96.000000  1200581.000000      14.000000   \n",
        "75%    3.285613e+09     165.000000  1208251.000000      24.000000   \n",
        "max    4.809911e+09     526.000000  1208503.000000      96.000000   \n",
        "\n",
        "         repeattrips  \n",
        "count  160057.000000  \n",
        "mean        0.656335  \n",
        "std         6.786516  \n",
        "min         0.000000  \n",
        "25%         0.000000  \n",
        "50%         0.000000  \n",
        "75%         1.000000  \n",
        "max      2124.000000  \n",
        "\n",
        "[8 rows x 5 columns]"
       ]
      }
     ],
     "prompt_number": 3
    },
    {
     "cell_type": "code",
     "collapsed": false,
     "input": [
      "#dfHist['offer'].hist(bins=100)\n",
      "print dfHist['offer'].value_counts()\n",
      "dfHist['offer'].value_counts().plot(kind='bar')"
     ],
     "language": "python",
     "metadata": {},
     "outputs": [
      {
       "output_type": "stream",
       "stream": "stdout",
       "text": [
        "1197502    45652\n",
        "1208329    18767\n",
        "1203052    15337\n",
        "1208251    15028\n",
        "1199256     7971\n",
        "1204576     7293\n",
        "1199258     7037\n",
        "1194044     6810\n",
        "1208501     6643\n",
        "1200581     5032\n",
        "1208252     3393\n",
        "1200578     2922\n",
        "1208503     2413\n",
        "1204821     2326\n",
        "1204822     2290\n",
        "1198275     1977\n",
        "1198272     1924\n",
        "1200988     1418\n",
        "1200582     1291\n",
        "1200579     1238\n",
        "1198274     1124\n",
        "1198273      992\n",
        "1198271      957\n",
        "1200584      222\n",
        "dtype: int64\n"
       ]
      },
      {
       "metadata": {},
       "output_type": "pyout",
       "prompt_number": 130,
       "text": [
        "<matplotlib.axes.AxesSubplot at 0x11efbae50>"
       ]
      },
      {
       "metadata": {},
       "output_type": "display_data",
       "png": "[encoded data removed]",
       "text": [
        "<matplotlib.figure.Figure at 0x11ef7a2d0>"
       ]
      }
     ],
     "prompt_number": 130
    },
    {
     "cell_type": "code",
     "collapsed": false,
     "input": [
      "#dfHist['chain'].hist(bins=1000)\n",
      "dfHist['chain'].value_counts().plot(kind='bar')"
     ],
     "language": "python",
     "metadata": {},
     "outputs": [
      {
       "metadata": {},
       "output_type": "pyout",
       "prompt_number": 131,
       "text": [
        "<matplotlib.axes.AxesSubplot at 0x12ad03a10>"
       ]
      },
      {
       "metadata": {},
       "output_type": "display_data",
       "png": "[encoded data removed]",
       "text": [
        "<matplotlib.figure.Figure at 0x12ad05dd0>"
       ]
      }
     ],
     "prompt_number": 131
    },
    {
     "cell_type": "code",
     "collapsed": false,
     "input": [
      "dfHist.boxplot(column='chain')"
     ],
     "language": "python",
     "metadata": {},
     "outputs": [
      {
       "metadata": {},
       "output_type": "pyout",
       "prompt_number": 132,
       "text": [
        "{'boxes': [<matplotlib.lines.Line2D at 0x11d96ef50>],\n",
        " 'caps': [<matplotlib.lines.Line2D at 0x11b66c6d0>,\n",
        "  <matplotlib.lines.Line2D at 0x11b680c90>],\n",
        " 'fliers': [<matplotlib.lines.Line2D at 0x11d995dd0>,\n",
        "  <matplotlib.lines.Line2D at 0x11d9eebd0>],\n",
        " 'medians': [<matplotlib.lines.Line2D at 0x11d981810>],\n",
        " 'whiskers': [<matplotlib.lines.Line2D at 0x11b64c950>,\n",
        "  <matplotlib.lines.Line2D at 0x11b658dd0>]}"
       ]
      },
      {
       "metadata": {},
       "output_type": "display_data",
       "png": "[encoded data removed]",
       "text": [
        "<matplotlib.figure.Figure at 0x1095c2190>"
       ]
      }
     ],
     "prompt_number": 132
    },
    {
     "cell_type": "code",
     "collapsed": false,
     "input": [
      "dfHist['id'].plot()"
     ],
     "language": "python",
     "metadata": {},
     "outputs": [
      {
       "metadata": {},
       "output_type": "pyout",
       "prompt_number": 133,
       "text": [
        "<matplotlib.axes.AxesSubplot at 0x11d9b9b10>"
       ]
      },
      {
       "metadata": {},
       "output_type": "display_data",
       "png": "[encoded data removed]",
       "text": [
        "<matplotlib.figure.Figure at 0x11d99abd0>"
       ]
      }
     ],
     "prompt_number": 133
    },
    {
     "cell_type": "code",
     "collapsed": false,
     "input": [
      "\n",
      "f = plt.figure(figsize=(30, 5)) # Change the size as necessary\n",
      "dfHist.boxplot(ax=f.gca(),column='market', by = 'repeattrips')\n"
     ],
     "language": "python",
     "metadata": {},
     "outputs": [
      {
       "metadata": {},
       "output_type": "pyout",
       "prompt_number": 134,
       "text": [
        "<matplotlib.axes.AxesSubplot at 0x11e492b90>"
       ]
      },
      {
       "metadata": {},
       "output_type": "display_data",
       "png": "[encoded data removed]",
       "text": [
        "<matplotlib.figure.Figure at 0x11e466f10>"
       ]
      }
     ],
     "prompt_number": 134
    },
    {
     "cell_type": "code",
     "collapsed": false,
     "input": [
      "temp = dfHist.ix[:,'id'] == 12262064\n",
      "print temp.describe()\n",
      "# looks like this id (from test) is not in train, so we are looking at different people at the least (maybe some are same, not all)"
     ],
     "language": "python",
     "metadata": {},
     "outputs": [
      {
       "output_type": "stream",
       "stream": "stdout",
       "text": [
        "count    160057\n",
        "mean          0\n",
        "std           0\n",
        "min       False\n",
        "25%       False\n",
        "50%           0\n",
        "75%       False\n",
        "max       False\n",
        "Name: id, dtype: object\n"
       ]
      }
     ],
     "prompt_number": 135
    },
    {
     "cell_type": "code",
     "collapsed": false,
     "input": [
      "#dfHist['offer'].hist(bins=100)\n",
      "print dfHist['repeattrips'].value_counts()\n",
      "dfHist['repeattrips'].value_counts().plot(kind='bar')"
     ],
     "language": "python",
     "metadata": {},
     "outputs": [
      {
       "output_type": "stream",
       "stream": "stdout",
       "text": [
        "0       116619\n",
        "1        24742\n",
        "2         8269\n",
        "3         3646\n",
        "4         2020\n",
        "5         1367\n",
        "6          809\n",
        "7          588\n",
        "8          443\n",
        "9          315\n",
        "10         253\n",
        "11         182\n",
        "12         153\n",
        "13         117\n",
        "14          87\n",
        "15          77\n",
        "17          63\n",
        "16          61\n",
        "18          44\n",
        "19          29\n",
        "21          29\n",
        "20          19\n",
        "22          18\n",
        "23          14\n",
        "24          11\n",
        "27           9\n",
        "25           8\n",
        "26           8\n",
        "30           8\n",
        "28           5\n",
        "42           4\n",
        "29           4\n",
        "31           4\n",
        "32           3\n",
        "35           3\n",
        "37           2\n",
        "33           2\n",
        "34           2\n",
        "36           2\n",
        "38           2\n",
        "71           1\n",
        "72           1\n",
        "2124         1\n",
        "87           1\n",
        "80           1\n",
        "82           1\n",
        "66           1\n",
        "70           1\n",
        "41           1\n",
        "57           1\n",
        "45           1\n",
        "44           1\n",
        "1418         1\n",
        "40           1\n",
        "549          1\n",
        "104          1\n",
        "Length: 56, dtype: int64\n"
       ]
      },
      {
       "metadata": {},
       "output_type": "pyout",
       "prompt_number": 136,
       "text": [
        "<matplotlib.axes.AxesSubplot at 0x11d9b9bd0>"
       ]
      },
      {
       "metadata": {},
       "output_type": "display_data",
       "png": "[encoded data removed]",
       "text": [
        "<matplotlib.figure.Figure at 0x120750d10>"
       ]
      }
     ],
     "prompt_number": 136
    },
    {
     "cell_type": "code",
     "collapsed": false,
     "input": [
      "print dfHist[dfHist.repeattrips>1000]"
     ],
     "language": "python",
     "metadata": {},
     "outputs": [
      {
       "output_type": "stream",
       "stream": "stdout",
       "text": [
        "                id  chain    offer  market  repeattrips repeater   offerdate\n",
        "123678  3450535153    306  1197502       6         1418        t  2013-04-18\n",
        "123859  3465135195    306  1197502       6         2124        t  2013-03-25\n",
        "\n",
        "[2 rows x 7 columns]\n"
       ]
      }
     ],
     "prompt_number": 137
    },
    {
     "cell_type": "code",
     "collapsed": false,
     "input": [
      "X = dfHist.ix[:,[1,2,3,6]].copy()\n",
      "y = dfHist.repeater.copy()\n",
      "y[y.ix[:] == 't'] = 1;\n",
      "y[y.ix[:] == 'f'] = 0;\n",
      "y = y.astype(bool)"
     ],
     "language": "python",
     "metadata": {},
     "outputs": [],
     "prompt_number": 10
    },
    {
     "cell_type": "code",
     "collapsed": false,
     "input": [
      "print X.head(5)\n",
      "print y.head(5)\n",
      "print len(y.ix[y==False])"
     ],
     "language": "python",
     "metadata": {},
     "outputs": [
      {
       "output_type": "stream",
       "stream": "stdout",
       "text": [
        "   chain    offer  market   offerdate\n",
        "0    205  1208251      34  2013-04-24\n",
        "1    205  1197502      34  2013-03-27\n",
        "2     18  1197502      11  2013-03-28\n",
        "3     15  1197502       9  2013-03-25\n",
        "4     15  1204821       9  2013-04-01\n",
        "\n",
        "[5 rows x 4 columns]\n",
        "0     True\n",
        "1     True\n",
        "2    False\n",
        "3    False\n",
        "4    False\n",
        "Name: repeater, dtype: bool\n",
        "116619\n"
       ]
      }
     ],
     "prompt_number": 11
    },
    {
     "cell_type": "code",
     "collapsed": false,
     "input": [
      "from sklearn import preprocessing\n",
      "# data\n",
      "X = dfHist.ix[:,[1,2,3]].copy().astype(float).values\n",
      "scaler = preprocessing.StandardScaler().fit(X)\n",
      "\n",
      "# labels, this seems like alot of work, maybe a better way\n",
      "y = dfHist.repeater.copy()\n",
      "y[y.ix[:] == 't'] = 1;\n",
      "y[y.ix[:] == 'f'] = 0;\n",
      "y = y.astype(bool).values\n",
      "lb = preprocessing.LabelBinarizer()\n",
      "lb.fit(y)\n",
      "y = lb.transform(y)\n",
      "y = np.ravel(y)"
     ],
     "language": "python",
     "metadata": {},
     "outputs": [],
     "prompt_number": 230
    },
    {
     "cell_type": "code",
     "collapsed": false,
     "input": [
      "from sklearn.ensemble import RandomForestClassifier\n",
      "from sklearn import metrics\n",
      "from sklearn import cross_validation\n",
      "\n",
      "\n",
      "X_train, X_test, y_train, y_test = cross_validation.train_test_split(X, y, test_size=0.4, random_state=0)\n",
      "\n",
      "clf = RandomForestClassifier(n_estimators=60, oob_score=True, n_jobs=3).fit(X_train, y_train)\n",
      "# predict on training data just for testing\n",
      "ypTrain = clf.predict(X_train)\n",
      "print 'OOB score: %.2f\\n' % clf.oob_score_\n",
      "print metrics.confusion_matrix(ypTrain, y_train)\n",
      "\n",
      "ypTest = clf.predict(X_test)\n",
      "print 'OOB score: %.2f\\n' % clf.oob_score_\n",
      "print metrics.confusion_matrix(ypTest, y_test)\n",
      "\n"
     ],
     "language": "python",
     "metadata": {},
     "outputs": [
      {
       "output_type": "stream",
       "stream": "stdout",
       "text": [
        "OOB score: 0.73\n",
        "\n",
        "[[66617 22215]\n",
        " [ 3391  3811]]"
       ]
      },
      {
       "output_type": "stream",
       "stream": "stdout",
       "text": [
        "\n"
       ]
      },
      {
       "output_type": "stream",
       "stream": "stdout",
       "text": [
        "OOB score: 0.73\n",
        "\n",
        "[[44352 14695]\n",
        " [ 2259  2717]]"
       ]
      },
      {
       "output_type": "stream",
       "stream": "stdout",
       "text": [
        "\n"
       ]
      }
     ],
     "prompt_number": 232
    },
    {
     "cell_type": "code",
     "collapsed": false,
     "input": [
      "from sklearn import svm\n",
      "X_train, X_test, y_train, y_test = cross_validation.train_test_split(X, y, test_size=0.4, random_state=0)\n",
      "X_train = scaler.transform(X_train)\n",
      "X_test = scaler.transform(X_test)\n",
      "\n",
      "clf = svm.SVC(probability=True)\n",
      "clf.fit(X_train, y_train)  \n",
      "y_pred_train = clf.predict(X_train)\n",
      "y_pred_test = clf.predict(X_test)\n",
      "print metrics.confusion_matrix(y_pred_train, y_train)\n",
      "print metrics.confusion_matrix(y_pred_test, y_test)\n"
     ],
     "language": "python",
     "metadata": {},
     "outputs": [
      {
       "output_type": "stream",
       "stream": "stdout",
       "text": [
        "[[70008 26026]\n",
        " [    0     0]]\n",
        "[[46611 17412]\n",
        " [    0     0]]"
       ]
      },
      {
       "output_type": "stream",
       "stream": "stdout",
       "text": [
        "\n"
       ]
      }
     ],
     "prompt_number": 233
    },
    {
     "cell_type": "code",
     "collapsed": false,
     "input": [
      "import numpy as np\n",
      "temp =  (np.where(y_train==True))\n",
      "print np.asarray(temp).size\n",
      "temp =  (np.where(y_train==False))\n",
      "print np.asarray(temp).size"
     ],
     "language": "python",
     "metadata": {},
     "outputs": [
      {
       "output_type": "stream",
       "stream": "stdout",
       "text": [
        "26026\n",
        "70008\n"
       ]
      }
     ],
     "prompt_number": 184
    },
    {
     "cell_type": "code",
     "collapsed": false,
     "input": [
      "# things to do:\n",
      "# 1. add offers to feature\n",
      "# 2. find optimal gamma in svm\n",
      "# 3. average random forest and svm\n",
      "# 4. create out csv file and submit\n",
      "# 5. figure out a way to use transaction data (shopping cart) - head scrather"
     ],
     "language": "python",
     "metadata": {},
     "outputs": []
    },
    {
     "cell_type": "code",
     "collapsed": false,
     "input": [
      "dfTest = read_csv('/Users/tank/Downloads/testHistory')\n",
      "#print dfTest\n",
      "dfTest.describe()\n",
      "XX = dfTest.ix[:,[1,2,3]].copy()\n",
      "XX.head(5)\n",
      "yy = clf.predict_proba(XX)"
     ],
     "language": "python",
     "metadata": {},
     "outputs": [],
     "prompt_number": 188
    },
    {
     "cell_type": "code",
     "collapsed": false,
     "input": [
      "plt.hist(yy, bins=100)"
     ],
     "language": "python",
     "metadata": {},
     "outputs": [
      {
       "metadata": {},
       "output_type": "pyout",
       "prompt_number": 191,
       "text": [
        "([array([  0.00000000e+00,   0.00000000e+00,   0.00000000e+00,\n",
        "         0.00000000e+00,   0.00000000e+00,   0.00000000e+00,\n",
        "         0.00000000e+00,   0.00000000e+00,   0.00000000e+00,\n",
        "         0.00000000e+00,   0.00000000e+00,   0.00000000e+00,\n",
        "         0.00000000e+00,   0.00000000e+00,   0.00000000e+00,\n",
        "         0.00000000e+00,   0.00000000e+00,   0.00000000e+00,\n",
        "         0.00000000e+00,   0.00000000e+00,   0.00000000e+00,\n",
        "         0.00000000e+00,   0.00000000e+00,   0.00000000e+00,\n",
        "         0.00000000e+00,   0.00000000e+00,   0.00000000e+00,\n",
        "         0.00000000e+00,   0.00000000e+00,   0.00000000e+00,\n",
        "         0.00000000e+00,   0.00000000e+00,   0.00000000e+00,\n",
        "         0.00000000e+00,   0.00000000e+00,   0.00000000e+00,\n",
        "         0.00000000e+00,   0.00000000e+00,   0.00000000e+00,\n",
        "         0.00000000e+00,   0.00000000e+00,   0.00000000e+00,\n",
        "         0.00000000e+00,   0.00000000e+00,   0.00000000e+00,\n",
        "         0.00000000e+00,   1.39000000e+02,   0.00000000e+00,\n",
        "         0.00000000e+00,   0.00000000e+00,   0.00000000e+00,\n",
        "         0.00000000e+00,   0.00000000e+00,   0.00000000e+00,\n",
        "         0.00000000e+00,   0.00000000e+00,   0.00000000e+00,\n",
        "         0.00000000e+00,   0.00000000e+00,   0.00000000e+00,\n",
        "         0.00000000e+00,   0.00000000e+00,   0.00000000e+00,\n",
        "         0.00000000e+00,   0.00000000e+00,   0.00000000e+00,\n",
        "         0.00000000e+00,   0.00000000e+00,   0.00000000e+00,\n",
        "         2.00000000e+00,   1.00000000e+00,   0.00000000e+00,\n",
        "         1.00000000e+00,   0.00000000e+00,   0.00000000e+00,\n",
        "         0.00000000e+00,   0.00000000e+00,   1.00000000e+00,\n",
        "         1.00000000e+00,   0.00000000e+00,   0.00000000e+00,\n",
        "         0.00000000e+00,   1.00000000e+00,   0.00000000e+00,\n",
        "         4.00000000e+00,   2.00000000e+00,   0.00000000e+00,\n",
        "         2.00000000e+00,   4.00000000e+00,   0.00000000e+00,\n",
        "         1.00000000e+00,   1.00000000e+00,   0.00000000e+00,\n",
        "         1.45951000e+05,   1.10000000e+01,   5.36000000e+03,\n",
        "         0.00000000e+00,   1.00000000e+00,   0.00000000e+00,\n",
        "         1.00000000e+00]),\n",
        "  array([  1.00000000e+00,   0.00000000e+00,   1.00000000e+00,\n",
        "         0.00000000e+00,   5.36000000e+03,   1.10000000e+01,\n",
        "         1.45951000e+05,   0.00000000e+00,   1.00000000e+00,\n",
        "         1.00000000e+00,   0.00000000e+00,   4.00000000e+00,\n",
        "         2.00000000e+00,   0.00000000e+00,   2.00000000e+00,\n",
        "         4.00000000e+00,   0.00000000e+00,   1.00000000e+00,\n",
        "         0.00000000e+00,   0.00000000e+00,   0.00000000e+00,\n",
        "         1.00000000e+00,   1.00000000e+00,   0.00000000e+00,\n",
        "         0.00000000e+00,   0.00000000e+00,   0.00000000e+00,\n",
        "         1.00000000e+00,   0.00000000e+00,   1.00000000e+00,\n",
        "         2.00000000e+00,   0.00000000e+00,   0.00000000e+00,\n",
        "         0.00000000e+00,   0.00000000e+00,   0.00000000e+00,\n",
        "         0.00000000e+00,   0.00000000e+00,   0.00000000e+00,\n",
        "         0.00000000e+00,   0.00000000e+00,   0.00000000e+00,\n",
        "         0.00000000e+00,   0.00000000e+00,   0.00000000e+00,\n",
        "         0.00000000e+00,   0.00000000e+00,   0.00000000e+00,\n",
        "         0.00000000e+00,   0.00000000e+00,   0.00000000e+00,\n",
        "         0.00000000e+00,   0.00000000e+00,   1.39000000e+02,\n",
        "         0.00000000e+00,   0.00000000e+00,   0.00000000e+00,\n",
        "         0.00000000e+00,   0.00000000e+00,   0.00000000e+00,\n",
        "         0.00000000e+00,   0.00000000e+00,   0.00000000e+00,\n",
        "         0.00000000e+00,   0.00000000e+00,   0.00000000e+00,\n",
        "         0.00000000e+00,   0.00000000e+00,   0.00000000e+00,\n",
        "         0.00000000e+00,   0.00000000e+00,   0.00000000e+00,\n",
        "         0.00000000e+00,   0.00000000e+00,   0.00000000e+00,\n",
        "         0.00000000e+00,   0.00000000e+00,   0.00000000e+00,\n",
        "         0.00000000e+00,   0.00000000e+00,   0.00000000e+00,\n",
        "         0.00000000e+00,   0.00000000e+00,   0.00000000e+00,\n",
        "         0.00000000e+00,   0.00000000e+00,   0.00000000e+00,\n",
        "         0.00000000e+00,   0.00000000e+00,   0.00000000e+00,\n",
        "         0.00000000e+00,   0.00000000e+00,   0.00000000e+00,\n",
        "         0.00000000e+00,   0.00000000e+00,   0.00000000e+00,\n",
        "         0.00000000e+00,   0.00000000e+00,   0.00000000e+00,\n",
        "         0.00000000e+00])],\n",
        " array([ 0.22773773,  0.23318298,  0.23862822,  0.24407347,  0.24951871,\n",
        "        0.25496396,  0.2604092 ,  0.26585445,  0.27129969,  0.27674494,\n",
        "        0.28219018,  0.28763543,  0.29308067,  0.29852592,  0.30397117,\n",
        "        0.30941641,  0.31486166,  0.3203069 ,  0.32575215,  0.33119739,\n",
        "        0.33664264,  0.34208788,  0.34753313,  0.35297837,  0.35842362,\n",
        "        0.36386887,  0.36931411,  0.37475936,  0.3802046 ,  0.38564985,\n",
        "        0.39109509,  0.39654034,  0.40198558,  0.40743083,  0.41287607,\n",
        "        0.41832132,  0.42376656,  0.42921181,  0.43465706,  0.4401023 ,\n",
        "        0.44554755,  0.45099279,  0.45643804,  0.46188328,  0.46732853,\n",
        "        0.47277377,  0.47821902,  0.48366426,  0.48910951,  0.49455475,\n",
        "        0.5       ,  0.50544525,  0.51089049,  0.51633574,  0.52178098,\n",
        "        0.52722623,  0.53267147,  0.53811672,  0.54356196,  0.54900721,\n",
        "        0.55445245,  0.5598977 ,  0.56534294,  0.57078819,  0.57623344,\n",
        "        0.58167868,  0.58712393,  0.59256917,  0.59801442,  0.60345966,\n",
        "        0.60890491,  0.61435015,  0.6197954 ,  0.62524064,  0.63068589,\n",
        "        0.63613113,  0.64157638,  0.64702163,  0.65246687,  0.65791212,\n",
        "        0.66335736,  0.66880261,  0.67424785,  0.6796931 ,  0.68513834,\n",
        "        0.69058359,  0.69602883,  0.70147408,  0.70691933,  0.71236457,\n",
        "        0.71780982,  0.72325506,  0.72870031,  0.73414555,  0.7395908 ,\n",
        "        0.74503604,  0.75048129,  0.75592653,  0.76137178,  0.76681702,\n",
        "        0.77226227]),\n",
        " <a list of 2 Lists of Patches objects>)"
       ]
      },
      {
       "metadata": {},
       "output_type": "display_data",
       "png": "[encoded data removed]",
       "text": [
        "<matplotlib.figure.Figure at 0x11fee4a50>"
       ]
      }
     ],
     "prompt_number": 191
    },
    {
     "cell_type": "code",
     "collapsed": false,
     "input": [
      "#dfHist['offer'].hist(bins=100)\n",
      "print dfHist['offer'].value_counts()\n",
      "dfHist['offer'].value_counts().plot(kind='bar')"
     ],
     "language": "python",
     "metadata": {},
     "outputs": [
      {
       "output_type": "stream",
       "stream": "stdout",
       "text": [
        "1197502    45652\n",
        "1208329    18767\n",
        "1203052    15337\n",
        "1208251    15028\n",
        "1199256     7971\n",
        "1204576     7293\n",
        "1199258     7037\n",
        "1194044     6810\n",
        "1208501     6643\n",
        "1200581     5032\n",
        "1208252     3393\n",
        "1200578     2922\n",
        "1208503     2413\n",
        "1204821     2326\n",
        "1204822     2290\n",
        "1198275     1977\n",
        "1198272     1924\n",
        "1200988     1418\n",
        "1200582     1291\n",
        "1200579     1238\n",
        "1198274     1124\n",
        "1198273      992\n",
        "1198271      957\n",
        "1200584      222\n",
        "dtype: int64\n"
       ]
      },
      {
       "metadata": {},
       "output_type": "pyout",
       "prompt_number": 11,
       "text": [
        "<matplotlib.axes.AxesSubplot at 0x109511d90>"
       ]
      },
      {
       "metadata": {},
       "output_type": "display_data",
       "png": "[encoded data removed]",
       "text": [
        "<matplotlib.figure.Figure at 0x107822310>"
       ]
      }
     ],
     "prompt_number": 11
    },
    {
     "cell_type": "code",
     "collapsed": false,
     "input": [
      "# dfTrans = read_csv('/Users/tank/Downloads/transactions')\n",
      "# print dfTrans\n",
      "# dfTrans.describe()\n"
     ],
     "language": "python",
     "metadata": {},
     "outputs": [],
     "prompt_number": 5
    },
    {
     "cell_type": "code",
     "collapsed": false,
     "input": [
      "dfOff = read_csv('/Users/tank/Downloads/offers')\n",
      "print dfOff\n",
      "dfOff.describe()"
     ],
     "language": "python",
     "metadata": {},
     "outputs": [
      {
       "output_type": "stream",
       "stream": "stdout",
       "text": [
        "      offer  category  quantity     company  offervalue   brand\n",
        "0   1190530      9115         1   108500080        5.00   93904\n",
        "1   1194044      9909         1   107127979        1.00    6732\n",
        "2   1197502      3203         1   106414464        0.75   13474\n",
        "3   1198271      5558         1   107120272        1.50    5072\n",
        "4   1198272      5558         1   107120272        1.50    5072\n",
        "5   1198273      5558         1   107120272        1.50    5072\n",
        "6   1198274      5558         1   107120272        1.50    5072\n",
        "7   1198275      5558         1   107120272        1.50    5072\n",
        "8   1199256      4401         1   105100050        2.00   13791\n",
        "9   1199258      4401         1   105100050        2.00   13791\n",
        "10  1200578      1703         1   104460040        1.50    7668\n",
        "11  1200579      1703         1   104460040        1.50    7668\n",
        "12  1200581      1726         1   104460040        1.25    7668\n",
        "13  1200582      1726         1   104460040        1.25    7668\n",
        "14  1200584      3504         1   104460040        1.25    7668\n",
        "15  1200988      3509         1   103320030        2.00     875\n",
        "16  1203052      9909         1  1089520383        1.00   28840\n",
        "17  1203439      5122         1   107106878        1.50   17311\n",
        "18  1204576      5616         1   104610040        1.00   15889\n",
        "19  1204821      5619         1   107717272        1.50  102504\n",
        "20  1204822      5619         1   107717272        1.50  102504\n",
        "21  1208251      2202         1   104460040        2.00    3718\n",
        "22  1208252      2202         1   104460040        3.00    3718\n",
        "23  1208329      2119         1   108079383        1.00    6926\n",
        "24  1208501      6202         1  1087744888        1.50   64486\n",
        "25  1208503      6202         1  1087744888        1.50   64486\n",
        "26  1213242      5824         1   105190050        2.00   26456\n",
        "27  1219900       799         1  1076211171        1.50   17286\n",
        "28  1219903       799         1  1076211171        1.50   17286\n",
        "29  1220502      4517         1   105450050        1.50    1322\n",
        "30  1220503      4517         1   105450050        1.50    1322\n",
        "31  1221658      7205         2   103700030        3.00    4294\n",
        "32  1221663      7205         1   103700030        1.50    4294\n",
        "33  1221665      7205         1   103700030        1.50    4294\n",
        "34  1221666      7205         1   103700030        1.50    4294\n",
        "35  1221667      7205         1   103700030        2.00    4294\n",
        "36  1230218       706         1   104127141        1.00   26189\n",
        "\n",
        "[37 rows x 6 columns]\n"
       ]
      },
      {
       "html": [
        "<div style=\"max-height:1000px;max-width:1500px;overflow:auto;\">\n",
        "<table border=\"1\" class=\"dataframe\">\n",
        "  <thead>\n",
        "    <tr style=\"text-align: right;\">\n",
        "      <th></th>\n",
        "      <th>offer</th>\n",
        "      <th>category</th>\n",
        "      <th>quantity</th>\n",
        "      <th>company</th>\n",
        "      <th>offervalue</th>\n",
        "      <th>brand</th>\n",
        "    </tr>\n",
        "  </thead>\n",
        "  <tbody>\n",
        "    <tr>\n",
        "      <th>count</th>\n",
        "      <td>      37.000000</td>\n",
        "      <td>   37.000000</td>\n",
        "      <td> 37.000000</td>\n",
        "      <td> 3.700000e+01</td>\n",
        "      <td> 37.000000</td>\n",
        "      <td>     37.000000</td>\n",
        "    </tr>\n",
        "    <tr>\n",
        "      <th>mean</th>\n",
        "      <td> 1207323.783784</td>\n",
        "      <td> 4775.378378</td>\n",
        "      <td>  1.027027</td>\n",
        "      <td> 2.376693e+08</td>\n",
        "      <td>  1.648649</td>\n",
        "      <td>  19675.135135</td>\n",
        "    </tr>\n",
        "    <tr>\n",
        "      <th>std</th>\n",
        "      <td>   10099.627152</td>\n",
        "      <td> 2492.239124</td>\n",
        "      <td>  0.164399</td>\n",
        "      <td> 3.389608e+08</td>\n",
        "      <td>  0.734704</td>\n",
        "      <td>  28084.740447</td>\n",
        "    </tr>\n",
        "    <tr>\n",
        "      <th>min</th>\n",
        "      <td> 1190530.000000</td>\n",
        "      <td>  706.000000</td>\n",
        "      <td>  1.000000</td>\n",
        "      <td> 1.033200e+08</td>\n",
        "      <td>  0.750000</td>\n",
        "      <td>    875.000000</td>\n",
        "    </tr>\n",
        "    <tr>\n",
        "      <th>25%</th>\n",
        "      <td> 1199258.000000</td>\n",
        "      <td> 2202.000000</td>\n",
        "      <td>  1.000000</td>\n",
        "      <td> 1.044600e+08</td>\n",
        "      <td>  1.500000</td>\n",
        "      <td>   4294.000000</td>\n",
        "    </tr>\n",
        "    <tr>\n",
        "      <th>50%</th>\n",
        "      <td> 1204576.000000</td>\n",
        "      <td> 5558.000000</td>\n",
        "      <td>  1.000000</td>\n",
        "      <td> 1.054500e+08</td>\n",
        "      <td>  1.500000</td>\n",
        "      <td>   7668.000000</td>\n",
        "    </tr>\n",
        "    <tr>\n",
        "      <th>75%</th>\n",
        "      <td> 1219900.000000</td>\n",
        "      <td> 6202.000000</td>\n",
        "      <td>  1.000000</td>\n",
        "      <td> 1.071280e+08</td>\n",
        "      <td>  1.500000</td>\n",
        "      <td>  17286.000000</td>\n",
        "    </tr>\n",
        "    <tr>\n",
        "      <th>max</th>\n",
        "      <td> 1230218.000000</td>\n",
        "      <td> 9909.000000</td>\n",
        "      <td>  2.000000</td>\n",
        "      <td> 1.089520e+09</td>\n",
        "      <td>  5.000000</td>\n",
        "      <td> 102504.000000</td>\n",
        "    </tr>\n",
        "  </tbody>\n",
        "</table>\n",
        "<p>8 rows \u00d7 6 columns</p>\n",
        "</div>"
       ],
       "metadata": {},
       "output_type": "pyout",
       "prompt_number": 9,
       "text": [
        "                offer     category   quantity       company  offervalue  \\\n",
        "count       37.000000    37.000000  37.000000  3.700000e+01   37.000000   \n",
        "mean   1207323.783784  4775.378378   1.027027  2.376693e+08    1.648649   \n",
        "std      10099.627152  2492.239124   0.164399  3.389608e+08    0.734704   \n",
        "min    1190530.000000   706.000000   1.000000  1.033200e+08    0.750000   \n",
        "25%    1199258.000000  2202.000000   1.000000  1.044600e+08    1.500000   \n",
        "50%    1204576.000000  5558.000000   1.000000  1.054500e+08    1.500000   \n",
        "75%    1219900.000000  6202.000000   1.000000  1.071280e+08    1.500000   \n",
        "max    1230218.000000  9909.000000   2.000000  1.089520e+09    5.000000   \n",
        "\n",
        "               brand  \n",
        "count      37.000000  \n",
        "mean    19675.135135  \n",
        "std     28084.740447  \n",
        "min       875.000000  \n",
        "25%      4294.000000  \n",
        "50%      7668.000000  \n",
        "75%     17286.000000  \n",
        "max    102504.000000  \n",
        "\n",
        "[8 rows x 6 columns]"
       ]
      }
     ],
     "prompt_number": 9
    },
    {
     "cell_type": "code",
     "collapsed": false,
     "input": [
      "dfTest = read_csv('/Users/tank/Downloads/testHistory')\n",
      "print dfTest\n",
      "dfTest.describe()"
     ],
     "language": "python",
     "metadata": {},
     "outputs": [
      {
       "output_type": "stream",
       "stream": "stdout",
       "text": [
        "          id  chain    offer  market   offerdate\n",
        "0   12262064     95  1219903      39  2013-06-27\n",
        "1   12277270     95  1221658      39  2013-06-23\n",
        "2   12332190     95  1213242      39  2013-06-15\n",
        "3   12524696      4  1221665       1  2013-06-20\n",
        "4   13074629     14  1221658       8  2013-06-21\n",
        "5   13387341     14  1221658       8  2013-06-22\n",
        "6   13501141      4  1203439       1  2013-05-13\n",
        "7   13558712     15  1203439       9  2013-05-12\n",
        "8   13563017     14  1221665       8  2013-06-24\n",
        "9   13584134     14  1221665       8  2013-06-27\n",
        "10  13744500      4  1221658       1  2013-06-26\n",
        "11  14026320     14  1221663       8  2013-06-23\n",
        "12  14049441      3  1221658       2  2013-06-21\n",
        "13  14101174      4  1221663       1  2013-06-22\n",
        "14  14278542      4  1221665       1  2013-06-21\n",
        "15  14632152     18  1213242      11  2013-05-27\n",
        "16  14723452     18  1221663      11  2013-06-29\n",
        "17  14790034      4  1230218       1  2013-07-28\n",
        "18  14989775     15  1221663       9  2013-06-26\n",
        "19  15050385     15  1221658       9  2013-06-23\n",
        "20  15073302     15  1190530       9  2013-05-09\n",
        "21  15134033     15  1203439       9  2013-05-13\n",
        "22  15163210     15  1221663       9  2013-06-21\n",
        "23  15417308     95  1213242      39  2013-05-22\n",
        "24  15575309     17  1219903       4  2013-07-05\n",
        "25  15708395     17  1221663       4  2013-06-24\n",
        "26  16075389     14  1221658       8  2013-06-20\n",
        "27  16078766      4  1230218       1  2013-07-27\n",
        "28  16130307      4  1190530       1  2013-05-08\n",
        "29  16412251     95  1221663      39  2013-06-21\n",
        "30  16551772      4  1203439       1  2013-05-23\n",
        "31  16740945     95  1213242      39  2013-05-26\n",
        "32  16765955     18  1213242      11  2013-05-25\n",
        "33  16790471     18  1213242      11  2013-05-21\n",
        "34  16799857     20  1230218       7  2013-07-24\n",
        "35  16802992     18  1213242      11  2013-05-22\n",
        "36  16829614     95  1230218      39  2013-07-28\n",
        "37  16961724     95  1219900      39  2013-06-28\n",
        "38  16968198     88  1230218      14  2013-07-26\n",
        "39  17041984     95  1230218      39  2013-07-25\n",
        "40  17208569     15  1221663       9  2013-06-23\n",
        "41  17524817      4  1221666       1  2013-06-28\n",
        "42  17552659      4  1221666       1  2013-06-23\n",
        "43  17563640     88  1221663      14  2013-06-22\n",
        "44  17652157      4  1219900       1  2013-06-28\n",
        "45  17678929      4  1221666       1  2013-06-21\n",
        "46  17792880     15  1221658       9  2013-06-24\n",
        "47  17956604      4  1190530       1  2013-05-09\n",
        "48  18019282      3  1221663       2  2013-06-29\n",
        "49  18036844      4  1221663       1  2013-06-21\n",
        "50  18470775      4  1230218       1  2013-07-28\n",
        "51  18714453     17  1221663       4  2013-06-25\n",
        "52  18854215     88  1203439      14  2013-05-12\n",
        "53  18985721      4  1219903       1  2013-07-15\n",
        "54  19006747     15  1221663       9  2013-06-22\n",
        "55  19119985     14  1221665       8  2013-06-21\n",
        "56  19134469      4  1190530       1  2013-05-17\n",
        "57  19166969     18  1221658      11  2013-06-20\n",
        "58  19253253     15  1203439       9  2013-05-14\n",
        "59  19277502      4  1221665       1  2013-06-23\n",
        "         ...    ...      ...     ...         ...\n",
        "\n",
        "[151484 rows x 5 columns]\n"
       ]
      },
      {
       "html": [
        "<div style=\"max-height:1000px;max-width:1500px;overflow:auto;\">\n",
        "<table border=\"1\" class=\"dataframe\">\n",
        "  <thead>\n",
        "    <tr style=\"text-align: right;\">\n",
        "      <th></th>\n",
        "      <th>id</th>\n",
        "      <th>chain</th>\n",
        "      <th>offer</th>\n",
        "      <th>market</th>\n",
        "    </tr>\n",
        "  </thead>\n",
        "  <tbody>\n",
        "    <tr>\n",
        "      <th>count</th>\n",
        "      <td> 1.514840e+05</td>\n",
        "      <td> 151484.000000</td>\n",
        "      <td>  151484.000000</td>\n",
        "      <td> 151484.000000</td>\n",
        "    </tr>\n",
        "    <tr>\n",
        "      <th>mean</th>\n",
        "      <td> 2.367236e+09</td>\n",
        "      <td>    189.443083</td>\n",
        "      <td> 1220097.543879</td>\n",
        "      <td>     35.404095</td>\n",
        "    </tr>\n",
        "    <tr>\n",
        "      <th>std</th>\n",
        "      <td> 1.629645e+09</td>\n",
        "      <td>    175.569364</td>\n",
        "      <td>    7878.898997</td>\n",
        "      <td>     33.483483</td>\n",
        "    </tr>\n",
        "    <tr>\n",
        "      <th>min</th>\n",
        "      <td> 1.226206e+07</td>\n",
        "      <td>      2.000000</td>\n",
        "      <td> 1190530.000000</td>\n",
        "      <td>      1.000000</td>\n",
        "    </tr>\n",
        "    <tr>\n",
        "      <th>25%</th>\n",
        "      <td> 6.527116e+08</td>\n",
        "      <td>     46.000000</td>\n",
        "      <td> 1220503.000000</td>\n",
        "      <td>     10.000000</td>\n",
        "    </tr>\n",
        "    <tr>\n",
        "      <th>50%</th>\n",
        "      <td> 2.513389e+09</td>\n",
        "      <td>    104.000000</td>\n",
        "      <td> 1221663.000000</td>\n",
        "      <td>     21.000000</td>\n",
        "    </tr>\n",
        "    <tr>\n",
        "      <th>75%</th>\n",
        "      <td> 4.000061e+09</td>\n",
        "      <td>    360.000000</td>\n",
        "      <td> 1221663.000000</td>\n",
        "      <td>     39.000000</td>\n",
        "    </tr>\n",
        "    <tr>\n",
        "      <th>max</th>\n",
        "      <td> 4.853599e+09</td>\n",
        "      <td>    526.000000</td>\n",
        "      <td> 1230218.000000</td>\n",
        "      <td>     96.000000</td>\n",
        "    </tr>\n",
        "  </tbody>\n",
        "</table>\n",
        "<p>8 rows \u00d7 4 columns</p>\n",
        "</div>"
       ],
       "metadata": {},
       "output_type": "pyout",
       "prompt_number": 12,
       "text": [
        "                 id          chain           offer         market\n",
        "count  1.514840e+05  151484.000000   151484.000000  151484.000000\n",
        "mean   2.367236e+09     189.443083  1220097.543879      35.404095\n",
        "std    1.629645e+09     175.569364     7878.898997      33.483483\n",
        "min    1.226206e+07       2.000000  1190530.000000       1.000000\n",
        "25%    6.527116e+08      46.000000  1220503.000000      10.000000\n",
        "50%    2.513389e+09     104.000000  1221663.000000      21.000000\n",
        "75%    4.000061e+09     360.000000  1221663.000000      39.000000\n",
        "max    4.853599e+09     526.000000  1230218.000000      96.000000\n",
        "\n",
        "[8 rows x 4 columns]"
       ]
      }
     ],
     "prompt_number": 12
    },
    {
     "cell_type": "code",
     "collapsed": false,
     "input": [
      "dfHist['chain'].value_counts\n",
      "dfHist['id'].value_counts().plot(kind='bar');\n"
     ],
     "language": "python",
     "metadata": {},
     "outputs": [],
     "prompt_number": "*"
    },
    {
     "cell_type": "code",
     "collapsed": false,
     "input": [],
     "language": "python",
     "metadata": {},
     "outputs": []
    }
   ],
   "metadata": {}
  }
 ]
}